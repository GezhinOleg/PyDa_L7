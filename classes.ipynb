{
  "nbformat": 4,
  "nbformat_minor": 0,
  "metadata": {
    "colab": {
      "name": "classes.ipynb",
      "provenance": [],
      "collapsed_sections": [],
      "authorship_tag": "ABX9TyP1nnyzHMlr/qWAwI7yPrU+",
      "include_colab_link": true
    },
    "kernelspec": {
      "name": "python3",
      "display_name": "Python 3"
    },
    "language_info": {
      "name": "python"
    }
  },
  "cells": [
    {
      "cell_type": "markdown",
      "metadata": {
        "id": "view-in-github",
        "colab_type": "text"
      },
      "source": [
        "<a href=\"https://colab.research.google.com/github/GezhinOleg/PyDa_L7/blob/main/classes.ipynb\" target=\"_parent\"><img src=\"https://colab.research.google.com/assets/colab-badge.svg\" alt=\"Open In Colab\"/></a>"
      ]
    },
    {
      "cell_type": "code",
      "metadata": {
        "colab": {
          "base_uri": "https://localhost:8080/",
          "height": 334
        },
        "id": "pQ7kno7cxFpR",
        "outputId": "17621d48-8291-45b4-fd60-51385930eba3"
      },
      "source": [
        "import requests\n",
        "from libs.exchange import Rate"
      ],
      "execution_count": 1,
      "outputs": [
        {
          "output_type": "error",
          "ename": "ModuleNotFoundError",
          "evalue": "ignored",
          "traceback": [
            "\u001b[0;31m---------------------------------------------------------------------------\u001b[0m",
            "\u001b[0;31mModuleNotFoundError\u001b[0m                       Traceback (most recent call last)",
            "\u001b[0;32m<ipython-input-1-6068a3d2fb33>\u001b[0m in \u001b[0;36m<module>\u001b[0;34m()\u001b[0m\n\u001b[1;32m      1\u001b[0m \u001b[0;32mimport\u001b[0m \u001b[0mrequests\u001b[0m\u001b[0;34m\u001b[0m\u001b[0;34m\u001b[0m\u001b[0m\n\u001b[0;32m----> 2\u001b[0;31m \u001b[0;32mfrom\u001b[0m \u001b[0mlibs\u001b[0m\u001b[0;34m.\u001b[0m\u001b[0mexchange\u001b[0m \u001b[0;32mimport\u001b[0m \u001b[0mRate\u001b[0m\u001b[0;34m\u001b[0m\u001b[0;34m\u001b[0m\u001b[0m\n\u001b[0m",
            "\u001b[0;31mModuleNotFoundError\u001b[0m: No module named 'libs'",
            "",
            "\u001b[0;31m---------------------------------------------------------------------------\u001b[0;32m\nNOTE: If your import is failing due to a missing package, you can\nmanually install dependencies using either !pip or !apt.\n\nTo view examples of installing some common dependencies, click the\n\"Open Examples\" button below.\n\u001b[0;31m---------------------------------------------------------------------------\u001b[0m\n"
          ]
        }
      ]
    },
    {
      "cell_type": "code",
      "metadata": {
        "id": "y-oqowT2xbOU"
      },
      "source": [
        "class Rate:\n",
        "    def __init__(self, format_='value', diff=True): #по мере разумения задания, добавил\n",
        "        # дополнительный параметр, правда не соображу, когда менять на False\n",
        "        self.format = format_\n",
        "        self.diff = diff\n",
        "\n",
        "    def exchange_rates(self):\n",
        "        \"\"\"\n",
        "        Возвращает ответ сервиса с информацией о валютах в виде:\n",
        "\n",
        "        {\n",
        "            'AMD': {\n",
        "                'CharCode': 'AMD',\n",
        "                'ID': 'R01060',\n",
        "                'Name': 'Армянских драмов',\n",
        "                'Nominal': 100,\n",
        "                'NumCode': '051',\n",
        "                'Previous': 14.103,\n",
        "                'Value': 14.0879\n",
        "                },\n",
        "            ...\n",
        "        }\n",
        "        \"\"\"\n",
        "        self.r = requests.get('https://www.cbr-xml-daily.ru/daily_json.js')\n",
        "        return self.r.json()['Valute']\n",
        "\n",
        "    def make_format(self, currency):\n",
        "        \"\"\"\n",
        "        Возвращает информацию о валюте currency в двух вариантах:\n",
        "        - полная информация о валюте при self.format = 'full':\n",
        "        Rate('full').make_format('EUR')\n",
        "        {\n",
        "            'CharCode': 'EUR',\n",
        "            'ID': 'R01239',\n",
        "            'Name': 'Евро',\n",
        "            'Nominal': 1,\n",
        "            'NumCode': '978',\n",
        "            'Previous': 79.6765,\n",
        "            'Value': 79.4966\n",
        "        }\n",
        "\n",
        "        Rate('value').make_format('EUR')\n",
        "        79.4966\n",
        "        \"\"\"\n",
        "        response = self.exchange_rates()\n",
        "\n",
        "        if currency in response:\n",
        "            if self.format == 'full':\n",
        "                return response[currency]\n",
        "\n",
        "            if self.format == 'value' and self.diff:#проверяю параметр diff на истину\n",
        "                result = response[currency]['Previous'] - response[currency]['Value']\n",
        "                return result\n",
        "\n",
        "        return 'Error'\n",
        "\n",
        "    def eur(self):\n",
        "        \"\"\"Возвращает курс евро на сегодня в формате self.format\"\"\"\n",
        "        return self.make_format('EUR')\n",
        "\n",
        "    def usd(self):\n",
        "        \"\"\"Возвращает курс доллара на сегодня в формате self.format\"\"\"\n",
        "        return self.make_format('USD')\n",
        "\n",
        "    def brl(self):\n",
        "        \"\"\"Возвращает курс бразильского реала на сегодня в формате self.format\"\"\"\n",
        "        return self.make_format('BRL')"
      ],
      "execution_count": 4,
      "outputs": []
    },
    {
      "cell_type": "code",
      "metadata": {
        "id": "9TjQW_D5xcmK"
      },
      "source": [
        "    def max_rate_diff(self):\n",
        "        '''\n",
        "        Задание 1\n",
        "        Напишите функцию, которая возвращает название валюты\n",
        "        (поле ‘Name’) с максимальным значением курса с помощью\n",
        "        сервиса www.cbr-xml-daily.ru...ly_json.js\n",
        "        '''\n",
        "        response = self.exchange_rates()\n",
        "        print('Максимальное значение валюты:')\n",
        "        for key in response.keys():\n",
        "            if response[key]['Value'] >= response[key]['Previous']:\n",
        "                print(key, 'Сегодня выше, чем вчера:', response[key]['Value'])\n",
        "            else:\n",
        "                print(key, 'Вчера было выше, чем сегодня:', response[key]['Previous'])"
      ],
      "execution_count": 6,
      "outputs": []
    },
    {
      "cell_type": "code",
      "metadata": {
        "id": "B3yU_PUMxkyg"
      },
      "source": [
        "r = Rate(format_='value')\n",
        "print(r.usd())\n",
        "r.max_rate_diff()"
      ],
      "execution_count": null,
      "outputs": []
    },
    {
      "cell_type": "markdown",
      "metadata": {
        "id": "Q5sLr5J0x_ID"
      },
      "source": [
        "Сделал по мере понимания задачи, сомневаюсь что понял верно. Если неправильно, прошу пояснения, уточнения ТЗ так сказать."
      ]
    },
    {
      "cell_type": "code",
      "metadata": {
        "id": "VjWhd5IJyRu5"
      },
      "source": [
        "class Designer(Employee):\n",
        "    '''\n",
        "    Напишите класс Designer, который учитывает количество международных премий\n",
        "    для дизайнеров (из презентации: “Повышение на 1 грейд за каждые 7 баллов.\n",
        "    Получение международной премии – это +2 балла”). Считайте, что при выходе\n",
        "    на работу сотрудник уже имеет две премии и их количество не меняется со\n",
        "    стажем (конечно если хотите это можно вручную менять).\n",
        "\n",
        "    Класс Designer пишется по аналогии с классом Developer из материалов занятия.\n",
        "    '''\n",
        "    def __init__(self, name, seniority, reward=2):\n",
        "        super().__init__(name, seniority)\n",
        "        self.reward = reward\n",
        "\n",
        "    def check_if_it_is_time_for_upgrade(self):\n",
        "        # добавляем параметр международной премии, если такая есть\n",
        "        # прибавляем к self.seniority 2\n",
        "        # для каждой аккредитации увеличиваем счетчик на 1\n",
        "        # пока считаем, что все разработчики проходят аккредитацию\n",
        "        self.seniority += 1\n",
        "\n",
        "\n",
        "        # условие повышения сотрудника из презентации\n",
        "        if self.seniority % 7 == 0:\n",
        "            if self.reward:\n",
        "                self.seniority += self.reward\n",
        "\n",
        "\n",
        "            self.grade_up()\n",
        "\n",
        "        # публикация результатов\n",
        "        return self.publish_grade()\n",
        "\n",
        "alex = Designer('Александр', 0, 3)\n",
        "for i in range(20):\n",
        "    alex.check_if_it_is_time_for_upgrade()"
      ],
      "execution_count": null,
      "outputs": []
    }
  ]
}